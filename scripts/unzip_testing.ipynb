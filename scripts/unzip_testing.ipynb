{
 "cells": [
  {
   "cell_type": "code",
   "execution_count": 11,
   "id": "1fb9ad55",
   "metadata": {},
   "outputs": [],
   "source": [
    "import numpy as np\n",
    "import astropy.io.fits as fits\n",
    "import os\n",
    "import re\n",
    "import sys\n",
    "\n",
    "import SIR_inversion_utils as u"
   ]
  },
  {
   "cell_type": "code",
   "execution_count": 7,
   "id": "bdff860d",
   "metadata": {
    "scrolled": false
   },
   "outputs": [
    {
     "name": "stdout",
     "output_type": "stream",
     "text": [
      "Data Directories\n",
      " ../level1/2008/10/22/SP3D/20081022_074436\n",
      "../level1/2008/10/22/SP3D/20081022_071436\n",
      "../level1/2008/01/30/SP3D/20080130_221405\n",
      "['../level1/2008/10/22/SP3D/20081022_074436', '../level1/2008/10/22/SP3D/20081022_071436', '../level1/2008/01/30/SP3D/20080130_221405']\n"
     ]
    }
   ],
   "source": [
    "all_sp3d_dirs = [''] # all directories\n",
    "all_data_dirs = ['']\n",
    "# insert the appropriate path, relative or absolute, to where the data are stored\n",
    "for root, dirs, files in os.walk(\"../level1/\"):\n",
    "    #print(root)\n",
    "    #print(dirs)\n",
    "    #print(files)\n",
    "    if root.endswith(\"SP3D\"):\n",
    "        all_sp3d_dirs += [root]\n",
    "        for subdir in dirs:\n",
    "            # this is the regular expression to find directories\n",
    "            #     of the type [YYYYMMDDHHMMSS]\n",
    "            if bool(re.search('20[012][0-9]+[012]+',subdir)):\n",
    "                all_data_dirs += [os.path.join(root, subdir)]\n",
    "# trim off the first null record in each list\n",
    "all_sp3d_dirs = all_sp3d_dirs[1:]\n",
    "all_data_dirs = all_data_dirs[1:]\n",
    "\n",
    "#print(\"SP3D Directories\\n\", \"\\n\".join(all_sp3d_dirs))\n",
    "print(\"Data Directories\\n\", \"\\n\".join(all_data_dirs))\n",
    "\n",
    "print(all_data_dirs)"
   ]
  },
  {
   "cell_type": "code",
   "execution_count": null,
   "id": "db165dce",
   "metadata": {},
   "outputs": [],
   "source": [
    "u.unzip('6349ab2404c0ecopy.zip', assembled_filepath='./assembed_fits/', remove_zips=False, path_to_zip='../')"
   ]
  },
  {
   "cell_type": "code",
   "execution_count": null,
   "id": "ef0a4a5b",
   "metadata": {},
   "outputs": [],
   "source": []
  }
 ],
 "metadata": {
  "kernelspec": {
   "display_name": "Python 3 (ipykernel)",
   "language": "python",
   "name": "python3"
  },
  "language_info": {
   "codemirror_mode": {
    "name": "ipython",
    "version": 3
   },
   "file_extension": ".py",
   "mimetype": "text/x-python",
   "name": "python",
   "nbconvert_exporter": "python",
   "pygments_lexer": "ipython3",
   "version": "3.10.5"
  }
 },
 "nbformat": 4,
 "nbformat_minor": 5
}
